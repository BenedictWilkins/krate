{
 "cells": [
  {
   "cell_type": "code",
   "execution_count": 8,
   "metadata": {
    "scrolled": false
   },
   "outputs": [
    {
     "name": "stdout",
     "output_type": "stream",
     "text": [
      "(3325, 210, 160, 3)\n"
     ]
    },
    {
     "data": {
      "text/plain": [
       "{'action': {'dtype': 'uint8', 'shape': [9]},\n",
       " 'state': {'dtype': 'uint8', 'shape': [210, 160, 3], 'format': ['HWC', 'RGB']},\n",
       " 'name': 'Enduro',\n",
       " 'size': 99746}"
      ]
     },
     "execution_count": 8,
     "metadata": {},
     "output_type": "execute_result"
    }
   ],
   "source": [
    "from pprint import pprint\n",
    "import krate\n",
    "\n",
    "krate.datasets()\n",
    "\n",
    "aad = krate.datasets()['aad']\n",
    "\n",
    "\n",
    "files = aad.dirs.AAD.dirs.raw.dirs['EnduroNoFrameskip-v4'].files\n",
    "for episode in files.episode.load():\n",
    "    print(episode['state'][...].shape)\n",
    "    break\n",
    "    \n",
    "files.meta.load()\n"
   ]
  },
  {
   "cell_type": "code",
   "execution_count": null,
   "metadata": {},
   "outputs": [],
   "source": [
    "import re\n",
    "pattern = \"([a-zA-Z0-9\\s_\\\\.\\-\\(\\):]*)\\([0-9]+\\)\\.[a-zA-Z0-9\\s_\\\\.\\-\\(\\):]+$\"\n",
    "m = re.match(pattern, \"episode.hdf5\")\n",
    "print(m)\n"
   ]
  },
  {
   "cell_type": "code",
   "execution_count": null,
   "metadata": {},
   "outputs": [],
   "source": [
    "import krate \n",
    "krate.registry.rename('atari-anomaly-dataset-aad', 'aad')"
   ]
  },
  {
   "cell_type": "code",
   "execution_count": null,
   "metadata": {},
   "outputs": [],
   "source": [
    "class A:\n",
    "    \n",
    "    @property\n",
    "    def t(self):\n",
    "        return 1\n",
    "    \n",
    "class B(A):\n",
    "    \n",
    "    @property\n",
    "    def t(self):\n",
    "        return 0\n",
    "    \n",
    "B().t"
   ]
  },
  {
   "cell_type": "code",
   "execution_count": null,
   "metadata": {},
   "outputs": [],
   "source": [
    "\n"
   ]
  }
 ],
 "metadata": {
  "kernelspec": {
   "display_name": "PhD",
   "language": "python",
   "name": "phd"
  },
  "language_info": {
   "codemirror_mode": {
    "name": "ipython",
    "version": 3
   },
   "file_extension": ".py",
   "mimetype": "text/x-python",
   "name": "python",
   "nbconvert_exporter": "python",
   "pygments_lexer": "ipython3",
   "version": "3.8.2"
  }
 },
 "nbformat": 4,
 "nbformat_minor": 4
}
